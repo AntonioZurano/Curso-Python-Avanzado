{
 "cells": [
  {
   "cell_type": "markdown",
   "metadata": {},
   "source": [
    "# CLASE PERSONA\n",
    "\n",
    "Define una clase Persona con atributos como nombre, edad y profesión. Luego, crea varios objetos de esta clase y muestra su información."
   ]
  },
  {
   "cell_type": "code",
   "execution_count": 6,
   "metadata": {},
   "outputs": [
    {
     "name": "stdout",
     "output_type": "stream",
     "text": [
      "Juan 30 Ingeniero\n",
      "Ana 25 Doctora\n"
     ]
    }
   ],
   "source": [
    "class Persona:\n",
    "    def __init__(self, nombre, edad, profesion):\n",
    "        self.nombre = nombre\n",
    "        self.edad = edad\n",
    "        self.profesion = profesion\n",
    "    \n",
    "persona1 = Persona(\"Juan\", 30, \"Ingeniero\")\n",
    "persona2 = Persona(\"Ana\", 25, \"Doctora\")\n",
    "\n",
    "print(persona1.nombre, persona1.edad, persona1.profesion)\n",
    "print(persona2.nombre, persona2.edad, persona2.profesion)\n"
   ]
  },
  {
   "cell_type": "markdown",
   "metadata": {},
   "source": [
    "# CALCULADORA BASICA\n",
    "\n",
    "Crea una clase llamada \"Calculadora\" con métodos para sumar, restar, multiplicar y dividir. Crea objetos de esta clase y realiza algunas operaciones básicas."
   ]
  },
  {
   "cell_type": "code",
   "execution_count": 7,
   "metadata": {},
   "outputs": [
    {
     "name": "stdout",
     "output_type": "stream",
     "text": [
      "15\n",
      "5\n",
      "50\n",
      "2.0\n"
     ]
    }
   ],
   "source": [
    "class Calculadora:\n",
    "    def sumar(self, a, b):\n",
    "        return a + b\n",
    "    \n",
    "    def restar(self, a, b):\n",
    "        return a - b\n",
    "    \n",
    "    def multiplicar(self, a, b):\n",
    "        return a * b\n",
    "    \n",
    "    def dividir(self, a, b):\n",
    "        return a / b\n",
    "    \n",
    "calculadora = Calculadora()\n",
    "print(calculadora.sumar(10,5))\n",
    "print(calculadora.restar(10,5))\n",
    "print(calculadora.multiplicar(10,5))\n",
    "print(calculadora.dividir(10,5))"
   ]
  },
  {
   "cell_type": "markdown",
   "metadata": {},
   "source": [
    "# LIBRO\n",
    "Crea una clase \"Libro\" con atributos como título, auto y año de publicación. Luego, crea varios objetos de esta clase y muestra su información.\n"
   ]
  },
  {
   "cell_type": "code",
   "execution_count": 8,
   "metadata": {},
   "outputs": [
    {
     "name": "stdout",
     "output_type": "stream",
     "text": [
      "El principito Antoine de Saint-Exupéry 1943\n",
      "El señor de los anillos J.R.R. Tolkien 1954\n"
     ]
    }
   ],
   "source": [
    "class Libro:\n",
    "    def __init__(self, titulo, autor, anio_publicacion):\n",
    "        self.titulo = titulo\n",
    "        self.autor = autor\n",
    "        self.anio_publicacion = anio_publicacion\n",
    "    \n",
    "libro1 = Libro(\"El principito\", \"Antoine de Saint-Exupéry\", 1943)\n",
    "libro2 = Libro(\"El señor de los anillos\", \"J.R.R. Tolkien\", 1954)\n",
    "\n",
    "print(libro1.titulo, libro1.autor, libro1.anio_publicacion)\n",
    "\n",
    "print(libro2.titulo, libro2.autor, libro2.anio_publicacion)\n"
   ]
  },
  {
   "cell_type": "markdown",
   "metadata": {},
   "source": [
    "# RECTÁNGULO \n",
    "Crea una clase \"Rectangulo\" con atributos de longitud y ancho. Implementa \n",
    "un método para calcular el área y el perímetro del rectángulo."
   ]
  },
  {
   "cell_type": "code",
   "execution_count": 11,
   "metadata": {},
   "outputs": [
    {
     "name": "stdout",
     "output_type": "stream",
     "text": [
      "Area: 50\n",
      "Perimetro:  30\n"
     ]
    }
   ],
   "source": [
    "class Rectangulo:\n",
    "    def __init__(self, longitud, ancho):\n",
    "        self.longitud = longitud\n",
    "        self.ancho = ancho\n",
    "    \n",
    "    def calcular_area(self):\n",
    "        area = self.longitud * self.ancho\n",
    "        return area\n",
    "    \n",
    "    def calcular_perimetro(self):\n",
    "        return 2 * (self.longitud + self.ancho)\n",
    "    \n",
    "rectangulo = Rectangulo(10, 5)\n",
    "print(\"Area:\", rectangulo.calcular_area())\n",
    "print(\"Perimetro: \", rectangulo.calcular_perimetro())\n"
   ]
  },
  {
   "cell_type": "markdown",
   "metadata": {},
   "source": [
    "# DADO \n",
    "Crea una clase \"Dado\" que simule el lanzamiento de un dado de 6 caras. \n",
    "Implementa un método para lanzar el dado y mostrar el resultado (quizás te \n",
    "convenga usar el modulo random)."
   ]
  },
  {
   "cell_type": "code",
   "execution_count": 44,
   "metadata": {},
   "outputs": [
    {
     "name": "stdout",
     "output_type": "stream",
     "text": [
      "1\n"
     ]
    }
   ],
   "source": [
    "import random\n",
    "\n",
    "class Dado:\n",
    "    \n",
    "    def lanzar_dado(self):\n",
    "        lanzamiento = random.randint(1, 6)\n",
    "        return lanzamiento\n",
    "    \n",
    "dado = Dado()\n",
    "print(dado.lanzar_dado())\n"
   ]
  },
  {
   "cell_type": "markdown",
   "metadata": {},
   "source": [
    "# COCHE \n",
    "Crea una clase \"Coche\" con atributos como marca, modelo y año. \n",
    "Implementa un método para encender el coche y otro para apagarlo (puedes \n",
    "simulae el encendido y apagado con una variable booleana). "
   ]
  },
  {
   "cell_type": "code",
   "execution_count": 53,
   "metadata": {},
   "outputs": [
    {
     "name": "stdout",
     "output_type": "stream",
     "text": [
      "Ford Fiesta 2010\n",
      "El coche esta encendido: False\n",
      "Ford Fiesta 2010\n",
      "El coche esta encendido: True\n",
      "Ford Fiesta 2010\n",
      "El coche esta encendido: False\n",
      "Ford Fiesta 2010\n"
     ]
    }
   ],
   "source": [
    "class Coche:\n",
    "    def __init__(self, marca, modelo, anio):\n",
    "        self.marca = marca\n",
    "        self.modelo = modelo\n",
    "        self.anio = anio\n",
    "        self.encendido = False\n",
    "    \n",
    "    def obtener_informacion(self):\n",
    "        return f\"{self.marca} {self.modelo} {self.anio}\"\n",
    "    \n",
    "    def encender(self):\n",
    "        self.encendido = True\n",
    "        \n",
    "    \n",
    "    def apagar(self):\n",
    "        self.encendido = False\n",
    "\n",
    "mi_coche = Coche(\"Ford\", \"Fiesta\", 2010)\n",
    "\n",
    "print(mi_coche.obtener_informacion())\n",
    "print(\"El coche esta encendido:\", mi_coche.encendido)\n",
    "mi_coche.encender()\n",
    "\n",
    "print(mi_coche.obtener_informacion())\n",
    "print(\"El coche esta encendido:\", mi_coche.encendido)\n",
    "\n",
    "print(mi_coche.obtener_informacion())\n",
    "mi_coche.apagar()\n",
    "print(\"El coche esta encendido:\", mi_coche.encendido)\n",
    "\n",
    "print(mi_coche.obtener_informacion())"
   ]
  },
  {
   "cell_type": "code",
   "execution_count": null,
   "metadata": {},
   "outputs": [],
   "source": []
  }
 ],
 "metadata": {
  "kernelspec": {
   "display_name": "work",
   "language": "python",
   "name": "python3"
  },
  "language_info": {
   "codemirror_mode": {
    "name": "ipython",
    "version": 3
   },
   "file_extension": ".py",
   "mimetype": "text/x-python",
   "name": "python",
   "nbconvert_exporter": "python",
   "pygments_lexer": "ipython3",
   "version": "3.12.5"
  }
 },
 "nbformat": 4,
 "nbformat_minor": 2
}
