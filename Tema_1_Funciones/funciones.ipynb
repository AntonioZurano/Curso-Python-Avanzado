{
 "cells": [
  {
   "cell_type": "markdown",
   "metadata": {},
   "source": [
    "### 1.- Define una función llamada \"saludar\" que tome un parámetro \"nombre\"\n",
    "### y muestre un saludo personalizado."
   ]
  },
  {
   "cell_type": "code",
   "execution_count": 1,
   "metadata": {},
   "outputs": [
    {
     "name": "stdout",
     "output_type": "stream",
     "text": [
      "Hola Juan  Bienvenido a Python\n"
     ]
    }
   ],
   "source": [
    "def saludar (nombre):\n",
    "    print(\"Hola\", nombre, \" Bienvenido a Python\")\n",
    "\n",
    "saludar(\"Juan\")"
   ]
  },
  {
   "cell_type": "markdown",
   "metadata": {},
   "source": [
    "### 2. Crea una función llamada \"suma\" que tome dos parámetros \"a\" y \"b\" e \n",
    "### imprima la suma de ambos. "
   ]
  },
  {
   "cell_type": "code",
   "execution_count": 2,
   "metadata": {},
   "outputs": [
    {
     "name": "stdout",
     "output_type": "stream",
     "text": [
      "La suma de 5 y 3 es 8\n"
     ]
    }
   ],
   "source": [
    "def suma(a, b):\n",
    "    valor_suma = a + b\n",
    "    print(\"La suma de\", a, \"y\", b, \"es\", valor_suma)\n",
    "\n",
    "suma(5, 3)   "
   ]
  },
  {
   "cell_type": "markdown",
   "metadata": {},
   "source": [
    "### 3. Escribe una función llamada \"calcular_area_rectangulo\" que tome dos \n",
    "### parámetros \"base\" y \"altura\" y calcule el área de un rectángulo."
   ]
  },
  {
   "cell_type": "code",
   "execution_count": 3,
   "metadata": {},
   "outputs": [
    {
     "name": "stdout",
     "output_type": "stream",
     "text": [
      "El area del rectangulo es 50\n"
     ]
    }
   ],
   "source": [
    "def calcular_area_restangulo(base, altura):\n",
    "    area = base * altura\n",
    "    return area\n",
    "\n",
    "area_rectangulo = calcular_area_restangulo(10, 5)   \n",
    "print(\"El area del rectangulo es\", area_rectangulo)"
   ]
  },
  {
   "cell_type": "markdown",
   "metadata": {},
   "source": [
    "### 4. Define una función llamada \"imprimir_lista\" que tome una lista como \n",
    "### parámetro y la imprima en la consola."
   ]
  },
  {
   "cell_type": "code",
   "execution_count": null,
   "metadata": {},
   "outputs": [
    {
     "name": "stdout",
     "output_type": "stream",
     "text": [
      "[1, 2, 3, 4, 5]\n"
     ]
    }
   ],
   "source": [
    "def imprimir_lista(lista):\n",
    "    print(lista)\n",
    "\n",
    "mi_lista = [1, 2, 3, 4, 5,6,7]\n",
    "imprimir_lista(mi_lista)\n"
   ]
  },
  {
   "cell_type": "code",
   "execution_count": null,
   "metadata": {},
   "outputs": [
    {
     "name": "stdout",
     "output_type": "stream",
     "text": [
      "1\n",
      "2\n",
      "3\n",
      "4\n",
      "5\n"
     ]
    }
   ],
   "source": [
    "def imprimir_lista(lista):\n",
    "    for elemento in lista:\n",
    "        print(elemento)\n",
    "\n",
    "mi_lista = [1, 2, 3, 4, 5,6,7]\n",
    "imprimir_lista(mi_lista)"
   ]
  },
  {
   "cell_type": "markdown",
   "metadata": {},
   "source": [
    "### 5. Crea una función llamada \"es_par\" que tome un número como \n",
    "### parámetro e imprima True si es par, o False si es impar."
   ]
  },
  {
   "cell_type": "code",
   "execution_count": 8,
   "metadata": {},
   "outputs": [
    {
     "name": "stdout",
     "output_type": "stream",
     "text": [
      "True\n"
     ]
    }
   ],
   "source": [
    "def es_par(numero):\n",
    "    if numero % 2 == 0:\n",
    "        print(True)\n",
    "    else:\n",
    "        print(False)\n",
    "\n",
    "es_par(4)"
   ]
  },
  {
   "cell_type": "markdown",
   "metadata": {},
   "source": [
    "### 6. Escribe una función llamada \"concatenar_strings\" que tome dos \n",
    "### parámetros \"cadena1\" y “cadena2\" e imprima la concatenación de \n",
    "### ambas cadenas."
   ]
  },
  {
   "cell_type": "code",
   "execution_count": 11,
   "metadata": {},
   "outputs": [
    {
     "name": "stdout",
     "output_type": "stream",
     "text": [
      "Hola Mundo\n"
     ]
    }
   ],
   "source": [
    "def concatenar_strings(string1, string2):\n",
    "    concatenacion = string1 + string2\n",
    "    print(concatenacion)\n",
    "\n",
    "concatenar_strings(\"Hola\", \" Mundo\")"
   ]
  },
  {
   "cell_type": "markdown",
   "metadata": {},
   "source": [
    "### 7. Define una función llamada \"obtener_maximo\" que tome una lista de \n",
    "### números como parámetro y devuelva el número máximo de la lista."
   ]
  },
  {
   "cell_type": "code",
   "execution_count": 1,
   "metadata": {},
   "outputs": [
    {
     "name": "stdout",
     "output_type": "stream",
     "text": [
      "7\n"
     ]
    }
   ],
   "source": [
    "def obtener_maximo(lista):\n",
    "    maximo = max(lista)\n",
    "    print(maximo)\n",
    "\n",
    "mi_lista = [1, 2, 3, 4, 5,6,7]\n",
    "obtener_maximo(mi_lista)"
   ]
  },
  {
   "cell_type": "markdown",
   "metadata": {},
   "source": [
    "### 8. Crea una función llamada \"convertir_fahrenheit_a_celsius\" que tome un \n",
    "### parámetro \"fahrenheit\" y devuelva su equivalente en grados Celsius."
   ]
  },
  {
   "cell_type": "code",
   "execution_count": 5,
   "metadata": {},
   "outputs": [
    {
     "name": "stdout",
     "output_type": "stream",
     "text": [
      "37.77777777777778\n"
     ]
    }
   ],
   "source": [
    "def convertir_fahrenheit_a_celsius(fahrenheit):\n",
    "    celsius = (fahrenheit - 32) * 5.0/9.0\n",
    "    print(celsius)\n",
    "\n",
    "convertir_fahrenheit_a_celsius(100)\n"
   ]
  },
  {
   "cell_type": "markdown",
   "metadata": {},
   "source": [
    "### 9. Escribe una función llamada \"calcular_edad\" que tome dos parámetros: \n",
    "### \"año_actual\" y \"año_nacimiento\" y calcule la edad de una persona."
   ]
  },
  {
   "cell_type": "code",
   "execution_count": 8,
   "metadata": {},
   "outputs": [
    {
     "name": "stdout",
     "output_type": "stream",
     "text": [
      "34\n"
     ]
    }
   ],
   "source": [
    "def calcular_edad (anio_nacimiento, anio_actual = 2024):\n",
    "    edad = anio_actual - anio_nacimiento\n",
    "    print(edad)\n",
    "\n",
    "\n",
    "calcular_edad(1990)"
   ]
  },
  {
   "cell_type": "markdown",
   "metadata": {},
   "source": [
    "### 10. Define una función llamada \"es_divisible\" que tome dos parámetros \n",
    "### \"num\" y \"divisor\" e imprima True si \"num\" es divisible por \"divisor\", o \n",
    "### False si no lo es. "
   ]
  },
  {
   "cell_type": "code",
   "execution_count": 10,
   "metadata": {},
   "outputs": [
    {
     "name": "stdout",
     "output_type": "stream",
     "text": [
      "False\n"
     ]
    }
   ],
   "source": [
    "def es_divisible(num, divisor):\n",
    "    if num % divisor == 0:\n",
    "        print(True)\n",
    "    else:\n",
    "        print(False)\n",
    "\n",
    "es_divisible(10, 3)"
   ]
  },
  {
   "cell_type": "markdown",
   "metadata": {},
   "source": [
    "### 11. Crea una función llamada \"mostrar_info_persona\" que tome tres \n",
    "### argumentos de palabra clave: \"nombre\", \"edad\" y \"ciudad\". La función \n",
    "### debe imprimir en la consola la información de una persona en un \n",
    "### formato legible. "
   ]
  },
  {
   "cell_type": "code",
   "execution_count": 3,
   "metadata": {},
   "outputs": [
    {
     "name": "stdout",
     "output_type": "stream",
     "text": [
      "Nombre: Juan\n",
      "Edad: 30\n",
      "Ciudad: Madrid\n"
     ]
    }
   ],
   "source": [
    "def mostrar_info_persona(nombre = None, edad = None, ciudad = None):\n",
    "    print(\"Nombre:\", nombre)\n",
    "    print(\"Edad:\", edad)\n",
    "    print(\"Ciudad:\", ciudad)\n",
    "\n",
    "mostrar_info_persona(nombre = \"Juan\", edad = 30, ciudad = \"Madrid\")"
   ]
  },
  {
   "cell_type": "markdown",
   "metadata": {},
   "source": [
    "### 12. Escribe una función llamada \"calcular_promedio\" que tome una lista de \n",
    "### números como parámetro y calcule el promedio de esos números. Si no \n",
    "### se proporciona una lista, debe usar una lista vacía por defecto. "
   ]
  },
  {
   "cell_type": "code",
   "execution_count": 4,
   "metadata": {},
   "outputs": [
    {
     "name": "stdout",
     "output_type": "stream",
     "text": [
      "4.0\n"
     ]
    }
   ],
   "source": [
    "def calcular_promedio(lista = []):\n",
    "    if len(lista) == 0:\n",
    "        resultado = 0\n",
    "    else:\n",
    "        suma = sum(lista)\n",
    "        promedio = suma / len(lista)\n",
    "        print(promedio)\n",
    "\n",
    "mi_lista = [1, 2, 3, 4, 5,6,7]\n",
    "calcular_promedio(mi_lista)"
   ]
  },
  {
   "cell_type": "markdown",
   "metadata": {},
   "source": [
    "### 13. Crea una función llamada \"calcular_potencia\" que tome dos \n",
    "### parámetros \"base\" y \"exponente\", y calcule la potencia de la base \n",
    "### elevada al exponente. Utiliza 2 como valor por defecto para el \n",
    "### exponente. "
   ]
  },
  {
   "cell_type": "code",
   "execution_count": 2,
   "metadata": {},
   "outputs": [
    {
     "name": "stdout",
     "output_type": "stream",
     "text": [
      "8\n"
     ]
    }
   ],
   "source": [
    "def calcular_potencia(base, exponente):\n",
    "    potencia = base ** exponente\n",
    "    print(potencia)\n",
    "\n",
    "calcular_potencia(2, 3)"
   ]
  },
  {
   "cell_type": "markdown",
   "metadata": {},
   "source": [
    "### 14. Define una función llamada \"imprimir_info_alumno\" que tome un \n",
    "### argumento posicional “nombre”(y sin valor por defecto) y varios \n",
    "### argumentos de palabra clave: \"edad\", \"curso\" y “promedio\" (puedes \n",
    "### ponerles como valor por defecto None). La función debe imprimir la \n",
    "### información del alumno en un formato legible."
   ]
  },
  {
   "cell_type": "code",
   "execution_count": null,
   "metadata": {},
   "outputs": [],
   "source": [
    "def imprimir_info_alumno(nombre, edad=None, curso=None, promedio=None):\n",
    "    print(\"Nombre:\", nombre)\n",
    "    if edad is not None:\n",
    "        print(\"Edad:\", edad)\n",
    "    if curso is not None:\n",
    "        print(\"Curso:\", curso)\n",
    "    if promedio is not None:\n",
    "        print(\"Promedio:\", promedio)\n",
    "\n",
    "imprimir_info_alumno(\"Juan\", 30, \"Python\", 4.5)"
   ]
  }
 ],
 "metadata": {
  "kernelspec": {
   "display_name": "work",
   "language": "python",
   "name": "python3"
  },
  "language_info": {
   "codemirror_mode": {
    "name": "ipython",
    "version": 3
   },
   "file_extension": ".py",
   "mimetype": "text/x-python",
   "name": "python",
   "nbconvert_exporter": "python",
   "pygments_lexer": "ipython3",
   "version": "3.12.5"
  }
 },
 "nbformat": 4,
 "nbformat_minor": 2
}
